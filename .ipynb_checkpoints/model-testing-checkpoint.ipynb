{
 "cells": [
  {
   "cell_type": "code",
   "execution_count": 1,
   "metadata": {},
   "outputs": [],
   "source": [
    "import os\n",
    "import json"
   ]
  },
  {
   "cell_type": "code",
   "execution_count": 3,
   "metadata": {},
   "outputs": [],
   "source": [
    "from surprise import BaselineOnly\n",
    "from surprise import Dataset\n",
    "from surprise import Reader\n",
    "from surprise import SVD, evaluate\n",
    "from surprise.model_selection import cross_validate, train_test_split"
   ]
  },
  {
   "cell_type": "code",
   "execution_count": 4,
   "metadata": {},
   "outputs": [],
   "source": [
    "for line in open('user10reviews.json', 'r'):\n",
    "    tenrevs = json.loads(line)"
   ]
  },
  {
   "cell_type": "code",
   "execution_count": 5,
   "metadata": {},
   "outputs": [],
   "source": [
    "cut = [(r['user_id'], r['business_id'], r['stars']) for r in tenrevs]"
   ]
  },
  {
   "cell_type": "code",
   "execution_count": 14,
   "metadata": {
    "scrolled": true
   },
   "outputs": [
    {
     "name": "stdout",
     "output_type": "stream",
     "text": [
      "Number of Reviews: 2295089\n"
     ]
    }
   ],
   "source": [
    "print('Number of Reviews: '+str(len(cut)))"
   ]
  },
  {
   "cell_type": "code",
   "execution_count": 18,
   "metadata": {},
   "outputs": [],
   "source": [
    "ratings = [r['stars'] for r in tenrevs]"
   ]
  },
  {
   "cell_type": "code",
   "execution_count": 19,
   "metadata": {
    "scrolled": true
   },
   "outputs": [
    {
     "data": {
      "text/plain": [
       "Counter({3.0: 402943, 1.0: 172811, 2.0: 217710, 4.0: 749878, 5.0: 751747})"
      ]
     },
     "execution_count": 19,
     "metadata": {},
     "output_type": "execute_result"
    }
   ],
   "source": [
    "from collections import Counter\n",
    "Counter(ratings)"
   ]
  },
  {
   "cell_type": "code",
   "execution_count": 21,
   "metadata": {},
   "outputs": [
    {
     "data": {
      "text/plain": [
       "float"
      ]
     },
     "execution_count": 21,
     "metadata": {},
     "output_type": "execute_result"
    }
   ],
   "source": [
    "type(ratings[0])"
   ]
  },
  {
   "cell_type": "code",
   "execution_count": 7,
   "metadata": {
    "scrolled": true
   },
   "outputs": [
    {
     "name": "stdout",
     "output_type": "stream",
     "text": [
      "Number of Unique Businesses: 73100\n",
      "Number of Unique Users: 81416\n"
     ]
    }
   ],
   "source": [
    "businesses = [r['business_id'] for r in tenrevs]\n",
    "unique_businesses = list(set(businesses))\n",
    "users = [r['user_id'] for r in tenrevs]\n",
    "unique_users = list(set(users))\n",
    "print('Number of Unique Businesses: '+ str(len(unique_businesses)))\n",
    "print('Number of Unique Users: '+ str(len(unique_users)))"
   ]
  },
  {
   "cell_type": "code",
   "execution_count": 8,
   "metadata": {},
   "outputs": [],
   "source": [
    "indexed_users = {v: k for k, v in enumerate(unique_users)}\n",
    "indexed_businesses = {v: k for k, v in enumerate(unique_businesses)}"
   ]
  },
  {
   "cell_type": "code",
   "execution_count": 9,
   "metadata": {},
   "outputs": [],
   "source": [
    "indexed_data = list(map(lambda r: (indexed_users[r[0]], indexed_businesses[r[1]], r[2]), cut))"
   ]
  },
  {
   "cell_type": "code",
   "execution_count": 10,
   "metadata": {},
   "outputs": [],
   "source": [
    "import csv\n",
    "with open('finaldata.csv', 'w') as f:\n",
    "    writer = csv.writer(f , lineterminator='\\n')\n",
    "    for tup in indexed_data:\n",
    "        writer.writerow(tup)"
   ]
  },
  {
   "cell_type": "code",
   "execution_count": 11,
   "metadata": {},
   "outputs": [],
   "source": [
    "file_path = os.path.expanduser('finaldata.csv')"
   ]
  },
  {
   "cell_type": "code",
   "execution_count": 12,
   "metadata": {},
   "outputs": [],
   "source": [
    "reader = Reader(line_format='user item rating', sep=',')"
   ]
  },
  {
   "cell_type": "code",
   "execution_count": 13,
   "metadata": {},
   "outputs": [],
   "source": [
    "data = Dataset.load_from_file(file_path, reader=reader)"
   ]
  },
  {
   "cell_type": "code",
   "execution_count": 11,
   "metadata": {},
   "outputs": [],
   "source": [
    "data.split(n_folds=5)"
   ]
  },
  {
   "cell_type": "code",
   "execution_count": 16,
   "metadata": {},
   "outputs": [],
   "source": [
    "svd = SVD()"
   ]
  },
  {
   "cell_type": "code",
   "execution_count": 17,
   "metadata": {
    "scrolled": true
   },
   "outputs": [
    {
     "name": "stderr",
     "output_type": "stream",
     "text": [
      "/anaconda3/lib/python3.6/site-packages/surprise/evaluate.py:66: UserWarning: The evaluate() method is deprecated. Please use model_selection.cross_validate() instead.\n",
      "  'model_selection.cross_validate() instead.', UserWarning)\n",
      "/anaconda3/lib/python3.6/site-packages/surprise/dataset.py:193: UserWarning: Using data.split() or using load_from_folds() without using a CV iterator is now deprecated. \n",
      "  UserWarning)\n"
     ]
    },
    {
     "name": "stdout",
     "output_type": "stream",
     "text": [
      "Evaluating RMSE, MAE of algorithm SVD.\n",
      "\n",
      "------------\n",
      "Fold 1\n",
      "RMSE: 1.0919\n",
      "MAE:  0.8586\n",
      "------------\n",
      "Fold 2\n",
      "RMSE: 1.0911\n",
      "MAE:  0.8584\n",
      "------------\n",
      "Fold 3\n",
      "RMSE: 1.0906\n",
      "MAE:  0.8573\n",
      "------------\n",
      "Fold 4\n",
      "RMSE: 1.0926\n",
      "MAE:  0.8598\n",
      "------------\n",
      "Fold 5\n",
      "RMSE: 1.0926\n",
      "MAE:  0.8592\n",
      "------------\n",
      "------------\n",
      "Mean RMSE: 1.0917\n",
      "Mean MAE : 0.8587\n",
      "------------\n",
      "------------\n"
     ]
    },
    {
     "data": {
      "text/plain": [
       "CaseInsensitiveDefaultDict(list,\n",
       "                           {'rmse': [1.0919205372150012,\n",
       "                             1.0911238090890574,\n",
       "                             1.0905641164574549,\n",
       "                             1.0925744889239362,\n",
       "                             1.0925621922072946],\n",
       "                            'mae': [0.858605564047045,\n",
       "                             0.8583596034838482,\n",
       "                             0.8573090440636588,\n",
       "                             0.8597598485326621,\n",
       "                             0.8592491339068206]})"
      ]
     },
     "execution_count": 17,
     "metadata": {},
     "output_type": "execute_result"
    }
   ],
   "source": [
    "evaluate(svd, data, measures=['RMSE', 'MAE'])"
   ]
  },
  {
   "cell_type": "code",
   "execution_count": 22,
   "metadata": {},
   "outputs": [],
   "source": [
    "from surprise.model_selection import GridSearchCV"
   ]
  },
  {
   "cell_type": "code",
   "execution_count": 23,
   "metadata": {},
   "outputs": [],
   "source": [
    "param_grid = {'biased': [True, False], 'lr_all': [0.001, 0.005, 0.05]}\n",
    "gs = GridSearchCV(SVD, param_grid, measures=['rmse', 'mae'], cv=3)"
   ]
  },
  {
   "cell_type": "code",
   "execution_count": null,
   "metadata": {},
   "outputs": [],
   "source": [
    "gs.fit(data)"
   ]
  },
  {
   "cell_type": "code",
   "execution_count": 15,
   "metadata": {},
   "outputs": [],
   "source": [
    "svdpp = SVDpp()"
   ]
  },
  {
   "cell_type": "code",
   "execution_count": 16,
   "metadata": {
    "scrolled": true
   },
   "outputs": [
    {
     "name": "stdout",
     "output_type": "stream",
     "text": [
      "Evaluating RMSE, MAE of algorithm SVDpp.\n",
      "\n",
      "------------\n",
      "Fold 1\n",
      "RMSE: 1.2451\n",
      "MAE:  0.9911\n",
      "------------\n",
      "Fold 2\n",
      "RMSE: 1.2439\n",
      "MAE:  0.9904\n",
      "------------\n",
      "Fold 3\n",
      "RMSE: 1.2435\n",
      "MAE:  0.9902\n",
      "------------\n",
      "Fold 4\n",
      "RMSE: 1.2439\n",
      "MAE:  0.9898\n",
      "------------\n",
      "Fold 5\n",
      "RMSE: 1.2423\n",
      "MAE:  0.9894\n",
      "------------\n",
      "Fold 6\n",
      "RMSE: 1.2454\n",
      "MAE:  0.9917\n",
      "------------\n",
      "Fold 7\n",
      "RMSE: 1.2423\n",
      "MAE:  0.9888\n",
      "------------\n",
      "Fold 8\n",
      "RMSE: 1.2440\n",
      "MAE:  0.9906\n",
      "------------\n",
      "Fold 9\n",
      "RMSE: 1.2444\n",
      "MAE:  0.9909\n",
      "------------\n",
      "Fold 10\n",
      "RMSE: 1.2435\n",
      "MAE:  0.9898\n",
      "------------\n",
      "------------\n",
      "Mean RMSE: 1.2438\n",
      "Mean MAE : 0.9903\n",
      "------------\n",
      "------------\n"
     ]
    },
    {
     "data": {
      "text/plain": [
       "CaseInsensitiveDefaultDict(list,\n",
       "                           {'rmse': [1.245125078509003,\n",
       "                             1.243877565662575,\n",
       "                             1.243534904258009,\n",
       "                             1.2439133989460236,\n",
       "                             1.2422777819164104,\n",
       "                             1.2454152231851392,\n",
       "                             1.242282298531058,\n",
       "                             1.2440367384772635,\n",
       "                             1.244350336377197,\n",
       "                             1.243543967201196],\n",
       "                            'mae': [0.9910805188094426,\n",
       "                             0.9903994289118054,\n",
       "                             0.9901717944360934,\n",
       "                             0.989838450409646,\n",
       "                             0.9894138213447615,\n",
       "                             0.9917496974624626,\n",
       "                             0.9887548745704519,\n",
       "                             0.9905598968497563,\n",
       "                             0.9908861770725602,\n",
       "                             0.9898384554833998]})"
      ]
     },
     "execution_count": 16,
     "metadata": {},
     "output_type": "execute_result"
    }
   ],
   "source": [
    "evaluate(svdpp, data, measures=['RMSE', 'MAE'])"
   ]
  },
  {
   "cell_type": "code",
   "execution_count": 18,
   "metadata": {},
   "outputs": [],
   "source": [
    "nmf = NMF()"
   ]
  },
  {
   "cell_type": "code",
   "execution_count": 19,
   "metadata": {
    "scrolled": true
   },
   "outputs": [
    {
     "name": "stdout",
     "output_type": "stream",
     "text": [
      "Evaluating RMSE, MAE of algorithm NMF.\n",
      "\n",
      "------------\n",
      "Fold 1\n",
      "RMSE: 1.3794\n",
      "MAE:  1.0783\n",
      "------------\n",
      "Fold 2\n",
      "RMSE: 1.3801\n",
      "MAE:  1.0787\n",
      "------------\n",
      "Fold 3\n",
      "RMSE: 1.3803\n",
      "MAE:  1.0797\n",
      "------------\n",
      "Fold 4\n",
      "RMSE: 1.3790\n",
      "MAE:  1.0774\n",
      "------------\n",
      "Fold 5\n",
      "RMSE: 1.3789\n",
      "MAE:  1.0773\n",
      "------------\n",
      "Fold 6\n",
      "RMSE: 1.3810\n",
      "MAE:  1.0798\n",
      "------------\n",
      "Fold 7\n",
      "RMSE: 1.3789\n",
      "MAE:  1.0777\n",
      "------------\n",
      "Fold 8\n",
      "RMSE: 1.3796\n",
      "MAE:  1.0786\n",
      "------------\n",
      "Fold 9\n",
      "RMSE: 1.3799\n",
      "MAE:  1.0785\n",
      "------------\n",
      "Fold 10\n",
      "RMSE: 1.3790\n",
      "MAE:  1.0779\n",
      "------------\n",
      "------------\n",
      "Mean RMSE: 1.3796\n",
      "Mean MAE : 1.0784\n",
      "------------\n",
      "------------\n"
     ]
    },
    {
     "data": {
      "text/plain": [
       "CaseInsensitiveDefaultDict(list,\n",
       "                           {'rmse': [1.3794350253411565,\n",
       "                             1.3800631753244952,\n",
       "                             1.3803470449633781,\n",
       "                             1.3790474183963373,\n",
       "                             1.3788653317907658,\n",
       "                             1.3809921876160387,\n",
       "                             1.3788922356505084,\n",
       "                             1.3796261813374224,\n",
       "                             1.3799325331811927,\n",
       "                             1.3790269179343493],\n",
       "                            'mae': [1.0782924691081697,\n",
       "                             1.078739278586975,\n",
       "                             1.07971219559644,\n",
       "                             1.077435373740628,\n",
       "                             1.0773078568785115,\n",
       "                             1.0797835618332265,\n",
       "                             1.0776545359866114,\n",
       "                             1.0785939513347529,\n",
       "                             1.0785215794765843,\n",
       "                             1.0778615445341255]})"
      ]
     },
     "execution_count": 19,
     "metadata": {},
     "output_type": "execute_result"
    }
   ],
   "source": [
    "evaluate(nmf, data, measures=['RMSE', 'MAE'])"
   ]
  },
  {
   "cell_type": "code",
   "execution_count": null,
   "metadata": {},
   "outputs": [],
   "source": []
  }
 ],
 "metadata": {
  "kernelspec": {
   "display_name": "Python 3",
   "language": "python",
   "name": "python3"
  },
  "language_info": {
   "codemirror_mode": {
    "name": "ipython",
    "version": 3
   },
   "file_extension": ".py",
   "mimetype": "text/x-python",
   "name": "python",
   "nbconvert_exporter": "python",
   "pygments_lexer": "ipython3",
   "version": "3.6.8"
  }
 },
 "nbformat": 4,
 "nbformat_minor": 2
}
