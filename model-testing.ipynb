{
 "cells": [
  {
   "cell_type": "code",
   "execution_count": 1,
   "metadata": {},
   "outputs": [],
   "source": [
    "import os\n",
    "import json"
   ]
  },
  {
   "cell_type": "code",
   "execution_count": 3,
   "metadata": {},
   "outputs": [],
   "source": [
    "from surprise import BaselineOnly\n",
    "from surprise import Dataset\n",
    "from surprise import Reader\n",
    "from surprise import SVD, evaluate\n",
    "from surprise.model_selection import cross_validate, train_test_split"
   ]
  },
  {
   "cell_type": "code",
   "execution_count": 4,
   "metadata": {},
   "outputs": [],
   "source": [
    "for line in open('user10reviews.json', 'r'):\n",
    "    tenrevs = json.loads(line)"
   ]
  },
  {
   "cell_type": "code",
   "execution_count": 5,
   "metadata": {},
   "outputs": [],
   "source": [
    "cut = [(r['user_id'], r['business_id'], r['stars']) for r in tenrevs]"
   ]
  },
  {
   "cell_type": "code",
   "execution_count": 14,
   "metadata": {
    "scrolled": true
   },
   "outputs": [
    {
     "name": "stdout",
     "output_type": "stream",
     "text": [
      "Number of Reviews: 2295089\n"
     ]
    }
   ],
   "source": [
    "print('Number of Reviews: '+str(len(cut)))"
   ]
  },
  {
   "cell_type": "code",
   "execution_count": 18,
   "metadata": {},
   "outputs": [],
   "source": [
    "ratings = [r['stars'] for r in tenrevs]"
   ]
  },
  {
   "cell_type": "code",
   "execution_count": 19,
   "metadata": {
    "scrolled": true
   },
   "outputs": [
    {
     "data": {
      "text/plain": [
       "Counter({3.0: 402943, 1.0: 172811, 2.0: 217710, 4.0: 749878, 5.0: 751747})"
      ]
     },
     "execution_count": 19,
     "metadata": {},
     "output_type": "execute_result"
    }
   ],
   "source": [
    "from collections import Counter\n",
    "Counter(ratings)"
   ]
  },
  {
   "cell_type": "code",
   "execution_count": 21,
   "metadata": {},
   "outputs": [
    {
     "data": {
      "text/plain": [
       "float"
      ]
     },
     "execution_count": 21,
     "metadata": {},
     "output_type": "execute_result"
    }
   ],
   "source": [
    "type(ratings[0])"
   ]
  },
  {
   "cell_type": "code",
   "execution_count": 7,
   "metadata": {
    "scrolled": true
   },
   "outputs": [
    {
     "name": "stdout",
     "output_type": "stream",
     "text": [
      "Number of Unique Businesses: 73100\n",
      "Number of Unique Users: 81416\n"
     ]
    }
   ],
   "source": [
    "businesses = [r['business_id'] for r in tenrevs]\n",
    "unique_businesses = list(set(businesses))\n",
    "users = [r['user_id'] for r in tenrevs]\n",
    "unique_users = list(set(users))\n",
    "print('Number of Unique Businesses: '+ str(len(unique_businesses)))\n",
    "print('Number of Unique Users: '+ str(len(unique_users)))"
   ]
  },
  {
   "cell_type": "code",
   "execution_count": 8,
   "metadata": {},
   "outputs": [],
   "source": [
    "indexed_users = {v: k for k, v in enumerate(unique_users)}\n",
    "indexed_businesses = {v: k for k, v in enumerate(unique_businesses)}"
   ]
  },
  {
   "cell_type": "code",
   "execution_count": 9,
   "metadata": {},
   "outputs": [],
   "source": [
    "indexed_data = list(map(lambda r: (indexed_users[r[0]], indexed_businesses[r[1]], r[2]), cut))"
   ]
  },
  {
   "cell_type": "code",
   "execution_count": 10,
   "metadata": {},
   "outputs": [],
   "source": [
    "import csv\n",
    "with open('finaldata.csv', 'w') as f:\n",
    "    writer = csv.writer(f , lineterminator='\\n')\n",
    "    for tup in indexed_data:\n",
    "        writer.writerow(tup)"
   ]
  },
  {
   "cell_type": "code",
   "execution_count": 11,
   "metadata": {},
   "outputs": [],
   "source": [
    "file_path = os.path.expanduser('finaldata.csv')"
   ]
  },
  {
   "cell_type": "code",
   "execution_count": 12,
   "metadata": {},
   "outputs": [],
   "source": [
    "reader = Reader(line_format='user item rating', sep=',')"
   ]
  },
  {
   "cell_type": "code",
   "execution_count": 13,
   "metadata": {},
   "outputs": [],
   "source": [
    "data = Dataset.load_from_file(file_path, reader=reader)"
   ]
  },
  {
   "cell_type": "code",
   "execution_count": 11,
   "metadata": {},
   "outputs": [],
   "source": [
    "data.split(n_folds=5)"
   ]
  },
  {
   "cell_type": "code",
   "execution_count": 16,
   "metadata": {},
   "outputs": [],
   "source": [
    "svd = SVD()"
   ]
  },
  {
   "cell_type": "code",
   "execution_count": 17,
   "metadata": {
    "scrolled": true
   },
   "outputs": [
    {
     "name": "stderr",
     "output_type": "stream",
     "text": [
      "/anaconda3/lib/python3.6/site-packages/surprise/evaluate.py:66: UserWarning: The evaluate() method is deprecated. Please use model_selection.cross_validate() instead.\n",
      "  'model_selection.cross_validate() instead.', UserWarning)\n",
      "/anaconda3/lib/python3.6/site-packages/surprise/dataset.py:193: UserWarning: Using data.split() or using load_from_folds() without using a CV iterator is now deprecated. \n",
      "  UserWarning)\n"
     ]
    },
    {
     "name": "stdout",
     "output_type": "stream",
     "text": [
      "Evaluating RMSE, MAE of algorithm SVD.\n",
      "\n",
      "------------\n",
      "Fold 1\n",
      "RMSE: 1.0919\n",
      "MAE:  0.8586\n",
      "------------\n",
      "Fold 2\n",
      "RMSE: 1.0911\n",
      "MAE:  0.8584\n",
      "------------\n",
      "Fold 3\n",
      "RMSE: 1.0906\n",
      "MAE:  0.8573\n",
      "------------\n",
      "Fold 4\n",
      "RMSE: 1.0926\n",
      "MAE:  0.8598\n",
      "------------\n",
      "Fold 5\n",
      "RMSE: 1.0926\n",
      "MAE:  0.8592\n",
      "------------\n",
      "------------\n",
      "Mean RMSE: 1.0917\n",
      "Mean MAE : 0.8587\n",
      "------------\n",
      "------------\n"
     ]
    },
    {
     "data": {
      "text/plain": [
       "CaseInsensitiveDefaultDict(list,\n",
       "                           {'rmse': [1.0919205372150012,\n",
       "                             1.0911238090890574,\n",
       "                             1.0905641164574549,\n",
       "                             1.0925744889239362,\n",
       "                             1.0925621922072946],\n",
       "                            'mae': [0.858605564047045,\n",
       "                             0.8583596034838482,\n",
       "                             0.8573090440636588,\n",
       "                             0.8597598485326621,\n",
       "                             0.8592491339068206]})"
      ]
     },
     "execution_count": 17,
     "metadata": {},
     "output_type": "execute_result"
    }
   ],
   "source": [
    "evaluate(svd, data, measures=['RMSE', 'MAE'])"
   ]
  },
  {
   "cell_type": "code",
   "execution_count": 22,
   "metadata": {},
   "outputs": [],
   "source": [
    "from surprise.model_selection import GridSearchCV"
   ]
  },
  {
   "cell_type": "code",
   "execution_count": 23,
   "metadata": {},
   "outputs": [],
   "source": [
    "param_grid = {'n_factors': [50, 100, 200], 'biased': [True], 'lr_all': [0.005]}\n",
    "gs = GridSearchCV(SVD, param_grid, measures=['rmse', 'mae'], cv=3)\n",
    "# 'n_epochs': [10, 20, 50],'reg_all': [0.02, 0.05, 0.08]"
   ]
  },
  {
   "cell_type": "code",
   "execution_count": 24,
   "metadata": {},
   "outputs": [],
   "source": [
    "gs.fit(data)"
   ]
  },
  {
   "cell_type": "code",
   "execution_count": 25,
   "metadata": {},
   "outputs": [],
   "source": [
    "results = gs.cv_results"
   ]
  },
  {
   "cell_type": "code",
   "execution_count": 26,
   "metadata": {},
   "outputs": [],
   "source": [
    "import pandas as pd\n",
    "results_df = pd.DataFrame.from_dict(gs.cv_results)\n",
    "results_df.to_csv('results.csv')"
   ]
  },
  {
   "cell_type": "code",
   "execution_count": 27,
   "metadata": {},
   "outputs": [
    {
     "data": {
      "text/html": [
       "<div>\n",
       "<style scoped>\n",
       "    .dataframe tbody tr th:only-of-type {\n",
       "        vertical-align: middle;\n",
       "    }\n",
       "\n",
       "    .dataframe tbody tr th {\n",
       "        vertical-align: top;\n",
       "    }\n",
       "\n",
       "    .dataframe thead th {\n",
       "        text-align: right;\n",
       "    }\n",
       "</style>\n",
       "<table border=\"1\" class=\"dataframe\">\n",
       "  <thead>\n",
       "    <tr style=\"text-align: right;\">\n",
       "      <th></th>\n",
       "      <th>split0_test_rmse</th>\n",
       "      <th>split1_test_rmse</th>\n",
       "      <th>split2_test_rmse</th>\n",
       "      <th>mean_test_rmse</th>\n",
       "      <th>std_test_rmse</th>\n",
       "      <th>rank_test_rmse</th>\n",
       "      <th>split0_test_mae</th>\n",
       "      <th>split1_test_mae</th>\n",
       "      <th>split2_test_mae</th>\n",
       "      <th>mean_test_mae</th>\n",
       "      <th>std_test_mae</th>\n",
       "      <th>rank_test_mae</th>\n",
       "      <th>mean_fit_time</th>\n",
       "      <th>std_fit_time</th>\n",
       "      <th>mean_test_time</th>\n",
       "      <th>std_test_time</th>\n",
       "      <th>params</th>\n",
       "      <th>param_biased</th>\n",
       "      <th>param_lr_all</th>\n",
       "    </tr>\n",
       "  </thead>\n",
       "  <tbody>\n",
       "    <tr>\n",
       "      <th>0</th>\n",
       "      <td>1.121815</td>\n",
       "      <td>1.123022</td>\n",
       "      <td>1.122295</td>\n",
       "      <td>1.122377</td>\n",
       "      <td>0.000496</td>\n",
       "      <td>2</td>\n",
       "      <td>0.894917</td>\n",
       "      <td>0.895330</td>\n",
       "      <td>0.895943</td>\n",
       "      <td>0.895397</td>\n",
       "      <td>0.000421</td>\n",
       "      <td>3</td>\n",
       "      <td>101.287115</td>\n",
       "      <td>12.756166</td>\n",
       "      <td>55.179468</td>\n",
       "      <td>56.157928</td>\n",
       "      <td>{'biased': True, 'lr_all': 0.001}</td>\n",
       "      <td>True</td>\n",
       "      <td>0.001</td>\n",
       "    </tr>\n",
       "    <tr>\n",
       "      <th>1</th>\n",
       "      <td>1.095546</td>\n",
       "      <td>1.096588</td>\n",
       "      <td>1.096280</td>\n",
       "      <td>1.096138</td>\n",
       "      <td>0.000437</td>\n",
       "      <td>1</td>\n",
       "      <td>0.863294</td>\n",
       "      <td>0.863555</td>\n",
       "      <td>0.863951</td>\n",
       "      <td>0.863600</td>\n",
       "      <td>0.000270</td>\n",
       "      <td>1</td>\n",
       "      <td>122.237027</td>\n",
       "      <td>4.096766</td>\n",
       "      <td>125.242564</td>\n",
       "      <td>10.203921</td>\n",
       "      <td>{'biased': True, 'lr_all': 0.005}</td>\n",
       "      <td>True</td>\n",
       "      <td>0.005</td>\n",
       "    </tr>\n",
       "    <tr>\n",
       "      <th>2</th>\n",
       "      <td>1.145895</td>\n",
       "      <td>1.146561</td>\n",
       "      <td>1.146847</td>\n",
       "      <td>1.146434</td>\n",
       "      <td>0.000399</td>\n",
       "      <td>3</td>\n",
       "      <td>0.887526</td>\n",
       "      <td>0.887307</td>\n",
       "      <td>0.888239</td>\n",
       "      <td>0.887690</td>\n",
       "      <td>0.000398</td>\n",
       "      <td>2</td>\n",
       "      <td>415.258017</td>\n",
       "      <td>388.697796</td>\n",
       "      <td>2648.197713</td>\n",
       "      <td>2215.837836</td>\n",
       "      <td>{'biased': True, 'lr_all': 0.05}</td>\n",
       "      <td>True</td>\n",
       "      <td>0.050</td>\n",
       "    </tr>\n",
       "    <tr>\n",
       "      <th>3</th>\n",
       "      <td>2.665475</td>\n",
       "      <td>2.674566</td>\n",
       "      <td>2.661799</td>\n",
       "      <td>2.667280</td>\n",
       "      <td>0.005366</td>\n",
       "      <td>6</td>\n",
       "      <td>2.331765</td>\n",
       "      <td>2.341412</td>\n",
       "      <td>2.326670</td>\n",
       "      <td>2.333283</td>\n",
       "      <td>0.006113</td>\n",
       "      <td>6</td>\n",
       "      <td>129.907277</td>\n",
       "      <td>11.421524</td>\n",
       "      <td>178.133461</td>\n",
       "      <td>49.572544</td>\n",
       "      <td>{'biased': False, 'lr_all': 0.001}</td>\n",
       "      <td>False</td>\n",
       "      <td>0.001</td>\n",
       "    </tr>\n",
       "    <tr>\n",
       "      <th>4</th>\n",
       "      <td>1.397292</td>\n",
       "      <td>1.400310</td>\n",
       "      <td>1.397937</td>\n",
       "      <td>1.398513</td>\n",
       "      <td>0.001297</td>\n",
       "      <td>5</td>\n",
       "      <td>1.110692</td>\n",
       "      <td>1.112792</td>\n",
       "      <td>1.110970</td>\n",
       "      <td>1.111485</td>\n",
       "      <td>0.000931</td>\n",
       "      <td>5</td>\n",
       "      <td>107.601211</td>\n",
       "      <td>8.414771</td>\n",
       "      <td>120.542719</td>\n",
       "      <td>10.293368</td>\n",
       "      <td>{'biased': False, 'lr_all': 0.005}</td>\n",
       "      <td>False</td>\n",
       "      <td>0.005</td>\n",
       "    </tr>\n",
       "    <tr>\n",
       "      <th>5</th>\n",
       "      <td>1.246154</td>\n",
       "      <td>1.246630</td>\n",
       "      <td>1.246168</td>\n",
       "      <td>1.246317</td>\n",
       "      <td>0.000221</td>\n",
       "      <td>4</td>\n",
       "      <td>0.982923</td>\n",
       "      <td>0.982756</td>\n",
       "      <td>0.983399</td>\n",
       "      <td>0.983026</td>\n",
       "      <td>0.000272</td>\n",
       "      <td>4</td>\n",
       "      <td>105.472106</td>\n",
       "      <td>6.496184</td>\n",
       "      <td>81.059657</td>\n",
       "      <td>12.616613</td>\n",
       "      <td>{'biased': False, 'lr_all': 0.05}</td>\n",
       "      <td>False</td>\n",
       "      <td>0.050</td>\n",
       "    </tr>\n",
       "  </tbody>\n",
       "</table>\n",
       "</div>"
      ],
      "text/plain": [
       "   split0_test_rmse  split1_test_rmse  split2_test_rmse  mean_test_rmse  \\\n",
       "0          1.121815          1.123022          1.122295        1.122377   \n",
       "1          1.095546          1.096588          1.096280        1.096138   \n",
       "2          1.145895          1.146561          1.146847        1.146434   \n",
       "3          2.665475          2.674566          2.661799        2.667280   \n",
       "4          1.397292          1.400310          1.397937        1.398513   \n",
       "5          1.246154          1.246630          1.246168        1.246317   \n",
       "\n",
       "   std_test_rmse  rank_test_rmse  split0_test_mae  split1_test_mae  \\\n",
       "0       0.000496               2         0.894917         0.895330   \n",
       "1       0.000437               1         0.863294         0.863555   \n",
       "2       0.000399               3         0.887526         0.887307   \n",
       "3       0.005366               6         2.331765         2.341412   \n",
       "4       0.001297               5         1.110692         1.112792   \n",
       "5       0.000221               4         0.982923         0.982756   \n",
       "\n",
       "   split2_test_mae  mean_test_mae  std_test_mae  rank_test_mae  mean_fit_time  \\\n",
       "0         0.895943       0.895397      0.000421              3     101.287115   \n",
       "1         0.863951       0.863600      0.000270              1     122.237027   \n",
       "2         0.888239       0.887690      0.000398              2     415.258017   \n",
       "3         2.326670       2.333283      0.006113              6     129.907277   \n",
       "4         1.110970       1.111485      0.000931              5     107.601211   \n",
       "5         0.983399       0.983026      0.000272              4     105.472106   \n",
       "\n",
       "   std_fit_time  mean_test_time  std_test_time  \\\n",
       "0     12.756166       55.179468      56.157928   \n",
       "1      4.096766      125.242564      10.203921   \n",
       "2    388.697796     2648.197713    2215.837836   \n",
       "3     11.421524      178.133461      49.572544   \n",
       "4      8.414771      120.542719      10.293368   \n",
       "5      6.496184       81.059657      12.616613   \n",
       "\n",
       "                               params  param_biased  param_lr_all  \n",
       "0   {'biased': True, 'lr_all': 0.001}          True         0.001  \n",
       "1   {'biased': True, 'lr_all': 0.005}          True         0.005  \n",
       "2    {'biased': True, 'lr_all': 0.05}          True         0.050  \n",
       "3  {'biased': False, 'lr_all': 0.001}         False         0.001  \n",
       "4  {'biased': False, 'lr_all': 0.005}         False         0.005  \n",
       "5   {'biased': False, 'lr_all': 0.05}         False         0.050  "
      ]
     },
     "execution_count": 27,
     "metadata": {},
     "output_type": "execute_result"
    }
   ],
   "source": [
    "results_df"
   ]
  },
  {
   "cell_type": "code",
   "execution_count": 15,
   "metadata": {},
   "outputs": [],
   "source": [
    "svdpp = SVDpp()"
   ]
  },
  {
   "cell_type": "code",
   "execution_count": 16,
   "metadata": {
    "scrolled": true
   },
   "outputs": [
    {
     "name": "stdout",
     "output_type": "stream",
     "text": [
      "Evaluating RMSE, MAE of algorithm SVDpp.\n",
      "\n",
      "------------\n",
      "Fold 1\n",
      "RMSE: 1.2451\n",
      "MAE:  0.9911\n",
      "------------\n",
      "Fold 2\n",
      "RMSE: 1.2439\n",
      "MAE:  0.9904\n",
      "------------\n",
      "Fold 3\n",
      "RMSE: 1.2435\n",
      "MAE:  0.9902\n",
      "------------\n",
      "Fold 4\n",
      "RMSE: 1.2439\n",
      "MAE:  0.9898\n",
      "------------\n",
      "Fold 5\n",
      "RMSE: 1.2423\n",
      "MAE:  0.9894\n",
      "------------\n",
      "Fold 6\n",
      "RMSE: 1.2454\n",
      "MAE:  0.9917\n",
      "------------\n",
      "Fold 7\n",
      "RMSE: 1.2423\n",
      "MAE:  0.9888\n",
      "------------\n",
      "Fold 8\n",
      "RMSE: 1.2440\n",
      "MAE:  0.9906\n",
      "------------\n",
      "Fold 9\n",
      "RMSE: 1.2444\n",
      "MAE:  0.9909\n",
      "------------\n",
      "Fold 10\n",
      "RMSE: 1.2435\n",
      "MAE:  0.9898\n",
      "------------\n",
      "------------\n",
      "Mean RMSE: 1.2438\n",
      "Mean MAE : 0.9903\n",
      "------------\n",
      "------------\n"
     ]
    },
    {
     "data": {
      "text/plain": [
       "CaseInsensitiveDefaultDict(list,\n",
       "                           {'rmse': [1.245125078509003,\n",
       "                             1.243877565662575,\n",
       "                             1.243534904258009,\n",
       "                             1.2439133989460236,\n",
       "                             1.2422777819164104,\n",
       "                             1.2454152231851392,\n",
       "                             1.242282298531058,\n",
       "                             1.2440367384772635,\n",
       "                             1.244350336377197,\n",
       "                             1.243543967201196],\n",
       "                            'mae': [0.9910805188094426,\n",
       "                             0.9903994289118054,\n",
       "                             0.9901717944360934,\n",
       "                             0.989838450409646,\n",
       "                             0.9894138213447615,\n",
       "                             0.9917496974624626,\n",
       "                             0.9887548745704519,\n",
       "                             0.9905598968497563,\n",
       "                             0.9908861770725602,\n",
       "                             0.9898384554833998]})"
      ]
     },
     "execution_count": 16,
     "metadata": {},
     "output_type": "execute_result"
    }
   ],
   "source": [
    "evaluate(svdpp, data, measures=['RMSE', 'MAE'])"
   ]
  },
  {
   "cell_type": "code",
   "execution_count": 18,
   "metadata": {},
   "outputs": [],
   "source": [
    "nmf = NMF()"
   ]
  },
  {
   "cell_type": "code",
   "execution_count": 19,
   "metadata": {
    "scrolled": true
   },
   "outputs": [
    {
     "name": "stdout",
     "output_type": "stream",
     "text": [
      "Evaluating RMSE, MAE of algorithm NMF.\n",
      "\n",
      "------------\n",
      "Fold 1\n",
      "RMSE: 1.3794\n",
      "MAE:  1.0783\n",
      "------------\n",
      "Fold 2\n",
      "RMSE: 1.3801\n",
      "MAE:  1.0787\n",
      "------------\n",
      "Fold 3\n",
      "RMSE: 1.3803\n",
      "MAE:  1.0797\n",
      "------------\n",
      "Fold 4\n",
      "RMSE: 1.3790\n",
      "MAE:  1.0774\n",
      "------------\n",
      "Fold 5\n",
      "RMSE: 1.3789\n",
      "MAE:  1.0773\n",
      "------------\n",
      "Fold 6\n",
      "RMSE: 1.3810\n",
      "MAE:  1.0798\n",
      "------------\n",
      "Fold 7\n",
      "RMSE: 1.3789\n",
      "MAE:  1.0777\n",
      "------------\n",
      "Fold 8\n",
      "RMSE: 1.3796\n",
      "MAE:  1.0786\n",
      "------------\n",
      "Fold 9\n",
      "RMSE: 1.3799\n",
      "MAE:  1.0785\n",
      "------------\n",
      "Fold 10\n",
      "RMSE: 1.3790\n",
      "MAE:  1.0779\n",
      "------------\n",
      "------------\n",
      "Mean RMSE: 1.3796\n",
      "Mean MAE : 1.0784\n",
      "------------\n",
      "------------\n"
     ]
    },
    {
     "data": {
      "text/plain": [
       "CaseInsensitiveDefaultDict(list,\n",
       "                           {'rmse': [1.3794350253411565,\n",
       "                             1.3800631753244952,\n",
       "                             1.3803470449633781,\n",
       "                             1.3790474183963373,\n",
       "                             1.3788653317907658,\n",
       "                             1.3809921876160387,\n",
       "                             1.3788922356505084,\n",
       "                             1.3796261813374224,\n",
       "                             1.3799325331811927,\n",
       "                             1.3790269179343493],\n",
       "                            'mae': [1.0782924691081697,\n",
       "                             1.078739278586975,\n",
       "                             1.07971219559644,\n",
       "                             1.077435373740628,\n",
       "                             1.0773078568785115,\n",
       "                             1.0797835618332265,\n",
       "                             1.0776545359866114,\n",
       "                             1.0785939513347529,\n",
       "                             1.0785215794765843,\n",
       "                             1.0778615445341255]})"
      ]
     },
     "execution_count": 19,
     "metadata": {},
     "output_type": "execute_result"
    }
   ],
   "source": [
    "evaluate(nmf, data, measures=['RMSE', 'MAE'])"
   ]
  },
  {
   "cell_type": "code",
   "execution_count": null,
   "metadata": {},
   "outputs": [],
   "source": []
  }
 ],
 "metadata": {
  "kernelspec": {
   "display_name": "Python 3",
   "language": "python",
   "name": "python3"
  },
  "language_info": {
   "codemirror_mode": {
    "name": "ipython",
    "version": 3
   },
   "file_extension": ".py",
   "mimetype": "text/x-python",
   "name": "python",
   "nbconvert_exporter": "python",
   "pygments_lexer": "ipython3",
   "version": "3.6.8"
  }
 },
 "nbformat": 4,
 "nbformat_minor": 2
}
